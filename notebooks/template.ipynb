{
 "cells": [
  {
   "cell_type": "markdown",
   "metadata": {},
   "source": [
    "# [Your Project Title]\n",
    "\n",
    "**Student:** [Your Name]  \n",
    "**Course:** AI001  \n",
    "**Date:** [Date]\n",
    "\n",
    "## Problem Statement\n",
    "[Describe the problem you're solving - classification, regression, etc.]\n",
    "\n",
    "## Dataset\n",
    "- **Source:** [Dataset name and URL]\n",
    "- **Size:** [Number of samples/features]\n",
    "- **Domain:** [Images/Text/Audio/Tabular]\n",
    "\n",
    "## Objectives\n",
    "- [Objective 1]\n",
    "- [Objective 2]\n",
    "- [Objective 3]"
   ]
  },
  {
   "cell_type": "code",
   "execution_count": 1,
   "metadata": {},
   "outputs": [
    {
     "name": "stdout",
     "output_type": "stream",
     "text": [
      "Libraries imported successfully!\n"
     ]
    }
   ],
   "source": [
    "# Core libraries\n",
    "import pandas as pd\n",
    "import numpy as np\n",
    "import matplotlib.pyplot as plt\n",
    "import seaborn as sns\n",
    "import plotly.express as px\n",
    "import plotly.graph_objects as go\n",
    "\n",
    "# ML libraries\n",
    "from sklearn.model_selection import train_test_split, cross_val_score\n",
    "from sklearn.preprocessing import StandardScaler, LabelEncoder\n",
    "from sklearn.ensemble import RandomForestClassifier\n",
    "from sklearn.linear_model import LogisticRegression\n",
    "from sklearn.svm import SVC\n",
    "from sklearn.metrics import accuracy_score, classification_report, confusion_matrix\n",
    "\n",
    "# Set style\n",
    "plt.style.use('seaborn-v0_8')\n",
    "sns.set_palette(\"husl\")\n",
    "\n",
    "# Display settings\n",
    "pd.set_option('display.max_columns', None)\n",
    "np.random.seed(42)\n",
    "\n",
    "print(\"Libraries imported successfully!\")"
   ]
  },
  {
   "cell_type": "markdown",
   "metadata": {},
   "source": [
    "# 1. Data Exploration\n",
    "\n",
    "Let's start by exploring our dataset to understand its structure and characteristics."
   ]
  },
  {
   "cell_type": "code",
   "execution_count": 2,
   "metadata": {},
   "outputs": [
    {
     "name": "stdout",
     "output_type": "stream",
     "text": [
      "Dataset shape: (1000, 11)\n"
     ]
    },
    {
     "data": {
      "text/html": [
       "<div>\n",
       "<style scoped>\n",
       "    .dataframe tbody tr th:only-of-type {\n",
       "        vertical-align: middle;\n",
       "    }\n",
       "\n",
       "    .dataframe tbody tr th {\n",
       "        vertical-align: top;\n",
       "    }\n",
       "\n",
       "    .dataframe thead th {\n",
       "        text-align: right;\n",
       "    }\n",
       "</style>\n",
       "<table border=\"1\" class=\"dataframe\">\n",
       "  <thead>\n",
       "    <tr style=\"text-align: right;\">\n",
       "      <th></th>\n",
       "      <th>feature_0</th>\n",
       "      <th>feature_1</th>\n",
       "      <th>feature_2</th>\n",
       "      <th>feature_3</th>\n",
       "      <th>feature_4</th>\n",
       "      <th>feature_5</th>\n",
       "      <th>feature_6</th>\n",
       "      <th>feature_7</th>\n",
       "      <th>feature_8</th>\n",
       "      <th>feature_9</th>\n",
       "      <th>target</th>\n",
       "    </tr>\n",
       "  </thead>\n",
       "  <tbody>\n",
       "    <tr>\n",
       "      <th>0</th>\n",
       "      <td>-3.678435</td>\n",
       "      <td>-1.066032</td>\n",
       "      <td>1.966002</td>\n",
       "      <td>-2.092658</td>\n",
       "      <td>-1.124700</td>\n",
       "      <td>-0.051542</td>\n",
       "      <td>1.124292</td>\n",
       "      <td>-1.608562</td>\n",
       "      <td>-1.028816</td>\n",
       "      <td>0.970581</td>\n",
       "      <td>2</td>\n",
       "    </tr>\n",
       "    <tr>\n",
       "      <th>1</th>\n",
       "      <td>1.575099</td>\n",
       "      <td>-0.618160</td>\n",
       "      <td>0.779082</td>\n",
       "      <td>0.916792</td>\n",
       "      <td>-0.689770</td>\n",
       "      <td>0.898512</td>\n",
       "      <td>0.178608</td>\n",
       "      <td>1.258445</td>\n",
       "      <td>1.437636</td>\n",
       "      <td>0.487085</td>\n",
       "      <td>2</td>\n",
       "    </tr>\n",
       "    <tr>\n",
       "      <th>2</th>\n",
       "      <td>-0.197321</td>\n",
       "      <td>1.191091</td>\n",
       "      <td>1.417739</td>\n",
       "      <td>-0.540792</td>\n",
       "      <td>-1.098688</td>\n",
       "      <td>-0.146854</td>\n",
       "      <td>-0.799354</td>\n",
       "      <td>0.806564</td>\n",
       "      <td>-1.117196</td>\n",
       "      <td>-1.586110</td>\n",
       "      <td>1</td>\n",
       "    </tr>\n",
       "    <tr>\n",
       "      <th>3</th>\n",
       "      <td>-2.016939</td>\n",
       "      <td>0.500917</td>\n",
       "      <td>2.189540</td>\n",
       "      <td>-1.427866</td>\n",
       "      <td>-1.017642</td>\n",
       "      <td>-0.982324</td>\n",
       "      <td>0.546948</td>\n",
       "      <td>-0.517931</td>\n",
       "      <td>-0.072470</td>\n",
       "      <td>0.435570</td>\n",
       "      <td>2</td>\n",
       "    </tr>\n",
       "    <tr>\n",
       "      <th>4</th>\n",
       "      <td>-0.027062</td>\n",
       "      <td>-0.029216</td>\n",
       "      <td>0.768419</td>\n",
       "      <td>-0.840496</td>\n",
       "      <td>-1.417443</td>\n",
       "      <td>0.775115</td>\n",
       "      <td>-0.130300</td>\n",
       "      <td>-0.062112</td>\n",
       "      <td>2.012378</td>\n",
       "      <td>2.062746</td>\n",
       "      <td>1</td>\n",
       "    </tr>\n",
       "  </tbody>\n",
       "</table>\n",
       "</div>"
      ],
      "text/plain": [
       "   feature_0  feature_1  feature_2  feature_3  feature_4  feature_5  \\\n",
       "0  -3.678435  -1.066032   1.966002  -2.092658  -1.124700  -0.051542   \n",
       "1   1.575099  -0.618160   0.779082   0.916792  -0.689770   0.898512   \n",
       "2  -0.197321   1.191091   1.417739  -0.540792  -1.098688  -0.146854   \n",
       "3  -2.016939   0.500917   2.189540  -1.427866  -1.017642  -0.982324   \n",
       "4  -0.027062  -0.029216   0.768419  -0.840496  -1.417443   0.775115   \n",
       "\n",
       "   feature_6  feature_7  feature_8  feature_9  target  \n",
       "0   1.124292  -1.608562  -1.028816   0.970581       2  \n",
       "1   0.178608   1.258445   1.437636   0.487085       2  \n",
       "2  -0.799354   0.806564  -1.117196  -1.586110       1  \n",
       "3   0.546948  -0.517931  -0.072470   0.435570       2  \n",
       "4  -0.130300  -0.062112   2.012378   2.062746       1  "
      ]
     },
     "execution_count": 2,
     "metadata": {},
     "output_type": "execute_result"
    }
   ],
   "source": [
    "# Load your dataset here\n",
    "# Example with sample data - replace with your actual dataset\n",
    "from sklearn.datasets import make_classification\n",
    "\n",
    "# Generate sample dataset (replace this with your actual data loading)\n",
    "X, y = make_classification(\n",
    "    n_samples=1000, \n",
    "    n_features=10, \n",
    "    n_informative=5, \n",
    "    n_redundant=3, \n",
    "    n_classes=3, \n",
    "    random_state=42\n",
    ")\n",
    "\n",
    "# Convert to DataFrame\n",
    "feature_names = [f'feature_{i}' for i in range(X.shape[1])]\n",
    "df = pd.DataFrame(X, columns=feature_names)\n",
    "df['target'] = y\n",
    "\n",
    "print(f\"Dataset shape: {df.shape}\")\n",
    "df.head()"
   ]
  },
  {
   "cell_type": "code",
   "execution_count": 3,
   "metadata": {},
   "outputs": [
    {
     "name": "stdout",
     "output_type": "stream",
     "text": [
      "Dataset Info:\n",
      "Shape: (1000, 11)\n",
      "Missing values: 0\n",
      "Target distribution:\n",
      "target\n",
      "1    336\n",
      "0    334\n",
      "2    330\n",
      "Name: count, dtype: int64\n"
     ]
    },
    {
     "data": {
      "text/html": [
       "<div>\n",
       "<style scoped>\n",
       "    .dataframe tbody tr th:only-of-type {\n",
       "        vertical-align: middle;\n",
       "    }\n",
       "\n",
       "    .dataframe tbody tr th {\n",
       "        vertical-align: top;\n",
       "    }\n",
       "\n",
       "    .dataframe thead th {\n",
       "        text-align: right;\n",
       "    }\n",
       "</style>\n",
       "<table border=\"1\" class=\"dataframe\">\n",
       "  <thead>\n",
       "    <tr style=\"text-align: right;\">\n",
       "      <th></th>\n",
       "      <th>feature_0</th>\n",
       "      <th>feature_1</th>\n",
       "      <th>feature_2</th>\n",
       "      <th>feature_3</th>\n",
       "      <th>feature_4</th>\n",
       "      <th>feature_5</th>\n",
       "      <th>feature_6</th>\n",
       "      <th>feature_7</th>\n",
       "      <th>feature_8</th>\n",
       "      <th>feature_9</th>\n",
       "      <th>target</th>\n",
       "    </tr>\n",
       "  </thead>\n",
       "  <tbody>\n",
       "    <tr>\n",
       "      <th>count</th>\n",
       "      <td>1000.000000</td>\n",
       "      <td>1000.000000</td>\n",
       "      <td>1000.000000</td>\n",
       "      <td>1000.000000</td>\n",
       "      <td>1000.000000</td>\n",
       "      <td>1000.000000</td>\n",
       "      <td>1000.000000</td>\n",
       "      <td>1000.000000</td>\n",
       "      <td>1000.000000</td>\n",
       "      <td>1000.000000</td>\n",
       "      <td>1000.00000</td>\n",
       "    </tr>\n",
       "    <tr>\n",
       "      <th>mean</th>\n",
       "      <td>-0.541015</td>\n",
       "      <td>-0.019375</td>\n",
       "      <td>0.686381</td>\n",
       "      <td>0.008215</td>\n",
       "      <td>-0.640862</td>\n",
       "      <td>-0.057886</td>\n",
       "      <td>0.610198</td>\n",
       "      <td>0.043431</td>\n",
       "      <td>-0.301548</td>\n",
       "      <td>0.299394</td>\n",
       "      <td>0.99600</td>\n",
       "    </tr>\n",
       "    <tr>\n",
       "      <th>std</th>\n",
       "      <td>2.028409</td>\n",
       "      <td>1.037613</td>\n",
       "      <td>1.579925</td>\n",
       "      <td>1.494060</td>\n",
       "      <td>1.490946</td>\n",
       "      <td>1.009826</td>\n",
       "      <td>1.931199</td>\n",
       "      <td>1.414826</td>\n",
       "      <td>1.685758</td>\n",
       "      <td>1.640825</td>\n",
       "      <td>0.81526</td>\n",
       "    </tr>\n",
       "    <tr>\n",
       "      <th>min</th>\n",
       "      <td>-7.371309</td>\n",
       "      <td>-3.221016</td>\n",
       "      <td>-4.867546</td>\n",
       "      <td>-4.298883</td>\n",
       "      <td>-5.520164</td>\n",
       "      <td>-2.899514</td>\n",
       "      <td>-6.873771</td>\n",
       "      <td>-4.189445</td>\n",
       "      <td>-5.842761</td>\n",
       "      <td>-4.859100</td>\n",
       "      <td>0.00000</td>\n",
       "    </tr>\n",
       "    <tr>\n",
       "      <th>25%</th>\n",
       "      <td>-1.951800</td>\n",
       "      <td>-0.722399</td>\n",
       "      <td>-0.353118</td>\n",
       "      <td>-1.084390</td>\n",
       "      <td>-1.557339</td>\n",
       "      <td>-0.747616</td>\n",
       "      <td>-0.649411</td>\n",
       "      <td>-0.884602</td>\n",
       "      <td>-1.343442</td>\n",
       "      <td>-0.881701</td>\n",
       "      <td>0.00000</td>\n",
       "    </tr>\n",
       "    <tr>\n",
       "      <th>50%</th>\n",
       "      <td>-0.481235</td>\n",
       "      <td>-0.060376</td>\n",
       "      <td>0.699202</td>\n",
       "      <td>-0.113327</td>\n",
       "      <td>-0.794267</td>\n",
       "      <td>-0.044317</td>\n",
       "      <td>0.662099</td>\n",
       "      <td>0.116933</td>\n",
       "      <td>-0.342376</td>\n",
       "      <td>0.384230</td>\n",
       "      <td>1.00000</td>\n",
       "    </tr>\n",
       "    <tr>\n",
       "      <th>75%</th>\n",
       "      <td>0.871894</td>\n",
       "      <td>0.688677</td>\n",
       "      <td>1.674551</td>\n",
       "      <td>1.018475</td>\n",
       "      <td>0.128637</td>\n",
       "      <td>0.659203</td>\n",
       "      <td>1.810872</td>\n",
       "      <td>0.966039</td>\n",
       "      <td>0.840851</td>\n",
       "      <td>1.494752</td>\n",
       "      <td>2.00000</td>\n",
       "    </tr>\n",
       "    <tr>\n",
       "      <th>max</th>\n",
       "      <td>5.473215</td>\n",
       "      <td>3.098299</td>\n",
       "      <td>5.883987</td>\n",
       "      <td>5.498877</td>\n",
       "      <td>5.472881</td>\n",
       "      <td>3.529055</td>\n",
       "      <td>8.566754</td>\n",
       "      <td>4.309566</td>\n",
       "      <td>4.605669</td>\n",
       "      <td>5.207157</td>\n",
       "      <td>2.00000</td>\n",
       "    </tr>\n",
       "  </tbody>\n",
       "</table>\n",
       "</div>"
      ],
      "text/plain": [
       "         feature_0    feature_1    feature_2    feature_3    feature_4  \\\n",
       "count  1000.000000  1000.000000  1000.000000  1000.000000  1000.000000   \n",
       "mean     -0.541015    -0.019375     0.686381     0.008215    -0.640862   \n",
       "std       2.028409     1.037613     1.579925     1.494060     1.490946   \n",
       "min      -7.371309    -3.221016    -4.867546    -4.298883    -5.520164   \n",
       "25%      -1.951800    -0.722399    -0.353118    -1.084390    -1.557339   \n",
       "50%      -0.481235    -0.060376     0.699202    -0.113327    -0.794267   \n",
       "75%       0.871894     0.688677     1.674551     1.018475     0.128637   \n",
       "max       5.473215     3.098299     5.883987     5.498877     5.472881   \n",
       "\n",
       "         feature_5    feature_6    feature_7    feature_8    feature_9  \\\n",
       "count  1000.000000  1000.000000  1000.000000  1000.000000  1000.000000   \n",
       "mean     -0.057886     0.610198     0.043431    -0.301548     0.299394   \n",
       "std       1.009826     1.931199     1.414826     1.685758     1.640825   \n",
       "min      -2.899514    -6.873771    -4.189445    -5.842761    -4.859100   \n",
       "25%      -0.747616    -0.649411    -0.884602    -1.343442    -0.881701   \n",
       "50%      -0.044317     0.662099     0.116933    -0.342376     0.384230   \n",
       "75%       0.659203     1.810872     0.966039     0.840851     1.494752   \n",
       "max       3.529055     8.566754     4.309566     4.605669     5.207157   \n",
       "\n",
       "           target  \n",
       "count  1000.00000  \n",
       "mean      0.99600  \n",
       "std       0.81526  \n",
       "min       0.00000  \n",
       "25%       0.00000  \n",
       "50%       1.00000  \n",
       "75%       2.00000  \n",
       "max       2.00000  "
      ]
     },
     "execution_count": 3,
     "metadata": {},
     "output_type": "execute_result"
    }
   ],
   "source": [
    "# Basic dataset information\n",
    "print(\"Dataset Info:\")\n",
    "print(f\"Shape: {df.shape}\")\n",
    "print(f\"Missing values: {df.isnull().sum().sum()}\")\n",
    "print(f\"Target distribution:\\n{df['target'].value_counts()}\")\n",
    "\n",
    "# Statistical summary\n",
    "df.describe()"
   ]
  },
  {
   "cell_type": "code",
   "execution_count": 4,
   "metadata": {},
   "outputs": [
    {
     "name": "stderr",
     "output_type": "stream",
     "text": [
      "/var/folders/h2/4n19j41n6dxg73lj5xpbvsfr0000gn/T/ipykernel_83591/3205950643.py:16: UserWarning: To output multiple subplots, the figure containing the passed axes is being cleared.\n",
      "  df[feature_names[:4]].hist(bins=20, ax=axes[1,0], alpha=0.7)\n"
     ]
    },
    {
     "data": {
      "image/png": "[encoded data removed]",
      "text/plain": [
       "<Figure size 1500x1000 with 4 Axes>"
      ]
     },
     "metadata": {},
     "output_type": "display_data"
    }
   ],
   "source": [
    "# Create visualizations\n",
    "fig, axes = plt.subplots(2, 2, figsize=(15, 10))\n",
    "\n",
    "# Target distribution\n",
    "df['target'].value_counts().plot(kind='bar', ax=axes[0,0])\n",
    "axes[0,0].set_title('Target Distribution')\n",
    "axes[0,0].set_xlabel('Target Class')\n",
    "axes[0,0].set_ylabel('Count')\n",
    "\n",
    "# Feature correlations\n",
    "correlation_matrix = df.select_dtypes(include=[np.number]).corr()\n",
    "sns.heatmap(correlation_matrix, annot=True, cmap='coolwarm', ax=axes[0,1])\n",
    "axes[0,1].set_title('Feature Correlations')\n",
    "\n",
    "# Feature distributions\n",
    "df[feature_names[:4]].hist(bins=20, ax=axes[1,0], alpha=0.7)\n",
    "axes[1,0].set_title('Feature Distributions (First 4)')\n",
    "\n",
    "# Box plot\n",
    "df.boxplot(column=feature_names[:5], ax=axes[1,1])\n",
    "axes[1,1].set_title('Box Plot (First 5 Features)')\n",
    "axes[1,1].tick_params(axis='x', rotation=45)\n",
    "\n",
    "plt.tight_layout()\n",
    "plt.show()"
   ]
  },
  {
   "cell_type": "code",
   "execution_count": 5,
   "metadata": {},
   "outputs": [
    {
     "data": {
      "application/vnd.plotly.v1+json": {
       "config": {
        "plotlyServerURL": "https://plot.ly"
       },
       "data": [
        {
         "dimensions": [
          {
           "axis": {
            "matches": true
           },
           "label": "feature_0",
           "values": {
            "bdata": "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",
            "dtype": "f8"
           }
          },
          {
           "axis": {
            "matches": true
           },
           "label": "feature_1",
           "values": {
            "bdata": "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",
            "dtype": "f8"
           }
          },
          {
           "axis": {
            "matches": true
           },
           "label": "feature_2",
           "values": {
            "bdata": "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",
            "dtype": "f8"
           }
          },
          {
           "axis": {
            "matches": true
           },
           "label": "feature_3",
           "values": {
            "bdata": "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",
            "dtype": "f8"
           }
          }
         ],
         "hovertemplate": "%{xaxis.title.text}=%{x}<br>%{yaxis.title.text}=%{y}<br>target=%{marker.color}<extra></extra>",
         "legendgroup": "",
         "marker": {
          "color": {
           "bdata": "AgIBAgECAgABAAICAAAAAAIAAQEBAAEBAgEBAAAAAQICAAECAgABAQABAQIAAAAAAgECAQACAgICAQECAQAAAgEAAAEBAQEAAQIAAAEAAQEBAAICAQEAAgAAAAECAAAAAAICAgACAQACAgEBAgACAAABAQABAgAAAgABAQIBAgIBAQAAAgIBAAABAQACAQECAAABAgECAAEBAgEBAAIBAQECAgABAAICAQIAAgEAAAIAAAEBAgEAAAABAQEBAQEBAQEAAQAAAgECAQEAAAABAAIAAAIBAAAAAgABAgACAgACAQAAAgICAQICAQEAAQEAAgECAQABAQABAAIBAgEAAAACAgICAAICAQICAQIBAgIAAgACAgACAgACAQICAAEBAAEBAQICAgECAQIBAQEAAgECAQAAAgACAgAAAAEAAAACAQEBAAAAAgAAAgEBAQABAAEBAgIAAgEBAQIBAQIBAgICAgICAgIBAgACAgEBAQACAAEBAQACAQACAgECAAACAAECAAECAAEAAQECAQICAQEAAQIAAAECAQACAgACAAIBAgEAAAEAAQIAAQABAAAAAAABAgICAAEAAgABAgEBAgEAAQAAAQIBAgIBAgICAAEBAgEAAAIAAAEAAQIBAgIAAgIBAAECAAAAAQEAAAACAQAAAQIBAAECAQIBAgAAAQACAAIAAAEBAAEBAQACAAAAAgAAAAEAAQEAAAICAQABAQICAAEAAQABAgACAAAAAgEAAAICAAEBAgECAAEAAAABAQIAAAAAAQEBAAICAQAAAAIBAAIAAAAAAAABAgIBAgICAQIAAgEAAgIAAgAAAAABAQIAAgICAgAAAgEAAgEBAgECAQIBAAIAAgEBAgIBAgABAQAAAgEAAQICAQECAAIAAQIAAAIBAAICAAACAQACAgICAAECAgEAAQAAAQICAQIBAgACAQEBAgIBAAEBAgEAAQIAAAABAgIBAAAAAgIBAAEBAQECAgABAgEAAQIAAAEAAAAAAQAAAgAAAgICAQICAgEBAQAAAQECAAIAAgAAAgECAAACAQEAAAEBAAIAAgICAAABAQECAAICAgIAAQIAAAICAAIBAAECAgECAgABAAACAAIBAQIBAAAAAgEAAQECAAECAgABAAIBAAEBAAIBAQEAAAEAAQIBAQEAAgIAAgECAAACAgECAAECAgICAAEAAgEAAgEBAgABAgIBAgICAAACAgECAgEAAQEBAAACAAIBAAAAAQEAAAAAAgIAAgEBAgIBAAAAAQICAAIBAgABAAECAQIAAQIAAQECAQIBAQACAgEBAAABAAIBAgIBAQECAAEBAQEBAg==",
           "dtype": "i1"
          },
          "coloraxis": "coloraxis",
          "symbol": "circle"
         },
         "name": "",
         "showlegend": false,
         "type": "splom"
        }
       ],
       "layout": {
        "coloraxis": {
         "colorbar": {
          "title": {
           "text": "target"
          }
         },
         "colorscale": [
          [
           0,
           "#0d0887"
          ],
          [
           0.1111111111111111,
           "#46039f"
          ],
          [
           0.2222222222222222,
           "#7201a8"
          ],
          [
           0.3333333333333333,
           "#9c179e"
          ],
          [
           0.4444444444444444,
           "#bd3786"
          ],
          [
           0.5555555555555556,
           "#d8576b"
          ],
          [
           0.6666666666666666,
           "#ed7953"
          ],
          [
           0.7777777777777778,
           "#fb9f3a"
          ],
          [
           0.8888888888888888,
           "#fdca26"
          ],
          [
           1,
           "#f0f921"
          ]
         ]
        },
        "dragmode": "select",
        "legend": {
         "tracegroupgap": 0
        },
        "template": {
         "data": {
          "bar": [
           {
            "error_x": {
             "color": "#2a3f5f"
            },
            "error_y": {
             "color": "#2a3f5f"
            },
            "marker": {
             "line": {
              "color": "#E5ECF6",
              "width": 0.5
             },
             "pattern": {
              "fillmode": "overlay",
              "size": 10,
              "solidity": 0.2
             }
            },
            "type": "bar"
           }
          ],
          "barpolar": [
           {
            "marker": {
             "line": {
              "color": "#E5ECF6",
              "width": 0.5
             },
             "pattern": {
              "fillmode": "overlay",
              "size": 10,
              "solidity": 0.2
             }
            },
            "type": "barpolar"
           }
          ],
          "carpet": [
           {
            "aaxis": {
             "endlinecolor": "#2a3f5f",
             "gridcolor": "white",
             "linecolor": "white",
             "minorgridcolor": "white",
             "startlinecolor": "#2a3f5f"
            },
            "baxis": {
             "endlinecolor": "#2a3f5f",
             "gridcolor": "white",
             "linecolor": "white",
             "minorgridcolor": "white",
             "startlinecolor": "#2a3f5f"
            },
            "type": "carpet"
           }
          ],
          "choropleth": [
           {
            "colorbar": {
             "outlinewidth": 0,
             "ticks": ""
            },
            "type": "choropleth"
           }
          ],
          "contour": [
           {
            "colorbar": {
             "outlinewidth": 0,
             "ticks": ""
            },
            "colorscale": [
             [
              0,
              "#0d0887"
             ],
             [
              0.1111111111111111,
              "#46039f"
             ],
             [
              0.2222222222222222,
              "#7201a8"
             ],
             [
              0.3333333333333333,
              "#9c179e"
             ],
             [
              0.4444444444444444,
              "#bd3786"
             ],
             [
              0.5555555555555556,
              "#d8576b"
             ],
             [
              0.6666666666666666,
              "#ed7953"
             ],
             [
              0.7777777777777778,
              "#fb9f3a"
             ],
             [
              0.8888888888888888,
              "#fdca26"
             ],
             [
              1,
              "#f0f921"
             ]
            ],
            "type": "contour"
           }
          ],
          "contourcarpet": [
           {
            "colorbar": {
             "outlinewidth": 0,
             "ticks": ""
            },
            "type": "contourcarpet"
           }
          ],
          "heatmap": [
           {
            "colorbar": {
             "outlinewidth": 0,
             "ticks": ""
            },
            "colorscale": [
             [
              0,
              "#0d0887"
             ],
             [
              0.1111111111111111,
              "#46039f"
             ],
             [
              0.2222222222222222,
              "#7201a8"
             ],
             [
              0.3333333333333333,
              "#9c179e"
             ],
             [
              0.4444444444444444,
              "#bd3786"
             ],
             [
              0.5555555555555556,
              "#d8576b"
             ],
             [
              0.6666666666666666,
              "#ed7953"
             ],
             [
              0.7777777777777778,
              "#fb9f3a"
             ],
             [
              0.8888888888888888,
              "#fdca26"
             ],
             [
              1,
              "#f0f921"
             ]
            ],
            "type": "heatmap"
           }
          ],
          "histogram": [
           {
            "marker": {
             "pattern": {
              "fillmode": "overlay",
              "size": 10,
              "solidity": 0.2
             }
            },
            "type": "histogram"
           }
          ],
          "histogram2d": [
           {
            "colorbar": {
             "outlinewidth": 0,
             "ticks": ""
            },
            "colorscale": [
             [
              0,
              "#0d0887"
             ],
             [
              0.1111111111111111,
              "#46039f"
             ],
             [
              0.2222222222222222,
              "#7201a8"
             ],
             [
              0.3333333333333333,
              "#9c179e"
             ],
             [
              0.4444444444444444,
              "#bd3786"
             ],
             [
              0.5555555555555556,
              "#d8576b"
             ],
             [
              0.6666666666666666,
              "#ed7953"
             ],
             [
              0.7777777777777778,
              "#fb9f3a"
             ],
             [
              0.8888888888888888,
              "#fdca26"
             ],
             [
              1,
              "#f0f921"
             ]
            ],
            "type": "histogram2d"
           }
          ],
          "histogram2dcontour": [
           {
            "colorbar": {
             "outlinewidth": 0,
             "ticks": ""
            },
            "colorscale": [
             [
              0,
              "#0d0887"
             ],
             [
              0.1111111111111111,
              "#46039f"
             ],
             [
              0.2222222222222222,
              "#7201a8"
             ],
             [
              0.3333333333333333,
              "#9c179e"
             ],
             [
              0.4444444444444444,
              "#bd3786"
             ],
             [
              0.5555555555555556,
              "#d8576b"
             ],
             [
              0.6666666666666666,
              "#ed7953"
             ],
             [
              0.7777777777777778,
              "#fb9f3a"
             ],
             [
              0.8888888888888888,
              "#fdca26"
             ],
             [
              1,
              "#f0f921"
             ]
            ],
            "type": "histogram2dcontour"
           }
          ],
          "mesh3d": [
           {
            "colorbar": {
             "outlinewidth": 0,
             "ticks": ""
            },
            "type": "mesh3d"
           }
          ],
          "parcoords": [
           {
            "line": {
             "colorbar": {
              "outlinewidth": 0,
              "ticks": ""
             }
            },
            "type": "parcoords"
           }
          ],
          "pie": [
           {
            "automargin": true,
            "type": "pie"
           }
          ],
          "scatter": [
           {
            "fillpattern": {
             "fillmode": "overlay",
             "size": 10,
             "solidity": 0.2
            },
            "type": "scatter"
           }
          ],
          "scatter3d": [
           {
            "line": {
             "colorbar": {
              "outlinewidth": 0,
              "ticks": ""
             }
            },
            "marker": {
             "colorbar": {
              "outlinewidth": 0,
              "ticks": ""
             }
            },
            "type": "scatter3d"
           }
          ],
          "scattercarpet": [
           {
            "marker": {
             "colorbar": {
              "outlinewidth": 0,
              "ticks": ""
             }
            },
            "type": "scattercarpet"
           }
          ],
          "scattergeo": [
           {
            "marker": {
             "colorbar": {
              "outlinewidth": 0,
              "ticks": ""
             }
            },
            "type": "scattergeo"
           }
          ],
          "scattergl": [
           {
            "marker": {
             "colorbar": {
              "outlinewidth": 0,
              "ticks": ""
             }
            },
            "type": "scattergl"
           }
          ],
          "scattermap": [
           {
            "marker": {
             "colorbar": {
              "outlinewidth": 0,
              "ticks": ""
             }
            },
            "type": "scattermap"
           }
          ],
          "scattermapbox": [
           {
            "marker": {
             "colorbar": {
              "outlinewidth": 0,
              "ticks": ""
             }
            },
            "type": "scattermapbox"
           }
          ],
          "scatterpolar": [
           {
            "marker": {
             "colorbar": {
              "outlinewidth": 0,
              "ticks": ""
             }
            },
            "type": "scatterpolar"
           }
          ],
          "scatterpolargl": [
           {
            "marker": {
             "colorbar": {
              "outlinewidth": 0,
              "ticks": ""
             }
            },
            "type": "scatterpolargl"
           }
          ],
          "scatterternary": [
           {
            "marker": {
             "colorbar": {
              "outlinewidth": 0,
              "ticks": ""
             }
            },
            "type": "scatterternary"
           }
          ],
          "surface": [
           {
            "colorbar": {
             "outlinewidth": 0,
             "ticks": ""
            },
            "colorscale": [
             [
              0,
              "#0d0887"
             ],
             [
              0.1111111111111111,
              "#46039f"
             ],
             [
              0.2222222222222222,
              "#7201a8"
             ],
             [
              0.3333333333333333,
              "#9c179e"
             ],
             [
              0.4444444444444444,
              "#bd3786"
             ],
             [
              0.5555555555555556,
              "#d8576b"
             ],
             [
              0.6666666666666666,
              "#ed7953"
             ],
             [
              0.7777777777777778,
              "#fb9f3a"
             ],
             [
              0.8888888888888888,
              "#fdca26"
             ],
             [
              1,
              "#f0f921"
             ]
            ],
            "type": "surface"
           }
          ],
          "table": [
           {
            "cells": {
             "fill": {
              "color": "#EBF0F8"
             },
             "line": {
              "color": "white"
             }
            },
            "header": {
             "fill": {
              "color": "#C8D4E3"
             },
             "line": {
              "color": "white"
             }
            },
            "type": "table"
           }
          ]
         },
         "layout": {
          "annotationdefaults": {
           "arrowcolor": "#2a3f5f",
           "arrowhead": 0,
           "arrowwidth": 1
          },
          "autotypenumbers": "strict",
          "coloraxis": {
           "colorbar": {
            "outlinewidth": 0,
            "ticks": ""
           }
          },
          "colorscale": {
           "diverging": [
            [
             0,
             "#8e0152"
            ],
            [
             0.1,
             "#c51b7d"
            ],
            [
             0.2,
             "#de77ae"
            ],
            [
             0.3,
             "#f1b6da"
            ],
            [
             0.4,
             "#fde0ef"
            ],
            [
             0.5,
             "#f7f7f7"
            ],
            [
             0.6,
             "#e6f5d0"
            ],
            [
             0.7,
             "#b8e186"
            ],
            [
             0.8,
             "#7fbc41"
            ],
            [
             0.9,
             "#4d9221"
            ],
            [
             1,
             "#276419"
            ]
           ],
           "sequential": [
            [
             0,
             "#0d0887"
            ],
            [
             0.1111111111111111,
             "#46039f"
            ],
            [
             0.2222222222222222,
             "#7201a8"
            ],
            [
             0.3333333333333333,
             "#9c179e"
            ],
            [
             0.4444444444444444,
             "#bd3786"
            ],
            [
             0.5555555555555556,
             "#d8576b"
            ],
            [
             0.6666666666666666,
             "#ed7953"
            ],
            [
             0.7777777777777778,
             "#fb9f3a"
            ],
            [
             0.8888888888888888,
             "#fdca26"
            ],
            [
             1,
             "#f0f921"
            ]
           ],
           "sequentialminus": [
            [
             0,
             "#0d0887"
            ],
            [
             0.1111111111111111,
             "#46039f"
            ],
            [
             0.2222222222222222,
             "#7201a8"
            ],
            [
             0.3333333333333333,
             "#9c179e"
            ],
            [
             0.4444444444444444,
             "#bd3786"
            ],
            [
             0.5555555555555556,
             "#d8576b"
            ],
            [
             0.6666666666666666,
             "#ed7953"
            ],
            [
             0.7777777777777778,
             "#fb9f3a"
            ],
            [
             0.8888888888888888,
             "#fdca26"
            ],
            [
             1,
             "#f0f921"
            ]
           ]
          },
          "colorway": [
           "#636efa",
           "#EF553B",
           "#00cc96",
           "#ab63fa",
           "#FFA15A",
           "#19d3f3",
           "#FF6692",
           "#B6E880",
           "#FF97FF",
           "#FECB52"
          ],
          "font": {
           "color": "#2a3f5f"
          },
          "geo": {
           "bgcolor": "white",
           "lakecolor": "white",
           "landcolor": "#E5ECF6",
           "showlakes": true,
           "showland": true,
           "subunitcolor": "white"
          },
          "hoverlabel": {
           "align": "left"
          },
          "hovermode": "closest",
          "mapbox": {
           "style": "light"
          },
          "paper_bgcolor": "white",
          "plot_bgcolor": "#E5ECF6",
          "polar": {
           "angularaxis": {
            "gridcolor": "white",
            "linecolor": "white",
            "ticks": ""
           },
           "bgcolor": "#E5ECF6",
           "radialaxis": {
            "gridcolor": "white",
            "linecolor": "white",
            "ticks": ""
           }
          },
          "scene": {
           "xaxis": {
            "backgroundcolor": "#E5ECF6",
            "gridcolor": "white",
            "gridwidth": 2,
            "linecolor": "white",
            "showbackground": true,
            "ticks": "",
            "zerolinecolor": "white"
           },
           "yaxis": {
            "backgroundcolor": "#E5ECF6",
            "gridcolor": "white",
            "gridwidth": 2,
            "linecolor": "white",
            "showbackground": true,
            "ticks": "",
            "zerolinecolor": "white"
           },
           "zaxis": {
            "backgroundcolor": "#E5ECF6",
            "gridcolor": "white",
            "gridwidth": 2,
            "linecolor": "white",
            "showbackground": true,
            "ticks": "",
            "zerolinecolor": "white"
           }
          },
          "shapedefaults": {
           "line": {
            "color": "#2a3f5f"
           }
          },
          "ternary": {
           "aaxis": {
            "gridcolor": "white",
            "linecolor": "white",
            "ticks": ""
           },
           "baxis": {
            "gridcolor": "white",
            "linecolor": "white",
            "ticks": ""
           },
           "bgcolor": "#E5ECF6",
           "caxis": {
            "gridcolor": "white",
            "linecolor": "white",
            "ticks": ""
           }
          },
          "title": {
           "x": 0.05
          },
          "xaxis": {
           "automargin": true,
           "gridcolor": "white",
           "linecolor": "white",
           "ticks": "",
           "title": {
            "standoff": 15
           },
           "zerolinecolor": "white",
           "zerolinewidth": 2
          },
          "yaxis": {
           "automargin": true,
           "gridcolor": "white",
           "linecolor": "white",
           "ticks": "",
           "title": {
            "standoff": 15
           },
           "zerolinecolor": "white",
           "zerolinewidth": 2
          }
         }
        },
        "title": {
         "text": "Interactive Feature Scatter Matrix"
        }
       }
      }
     },
     "metadata": {},
     "output_type": "display_data"
    }
   ],
   "source": [
    "# Interactive plotly visualization\n",
    "# Note: If this fails, run: uv add nbformat\n",
    "\n",
    "try:\n",
    "    fig = px.scatter_matrix(\n",
    "        df[feature_names[:4] + ['target']], \n",
    "        dimensions=feature_names[:4],\n",
    "        color='target',\n",
    "        title='Interactive Feature Scatter Matrix'\n",
    "    )\n",
    "    fig.show()\n",
    "except ValueError as e:\n",
    "    if \"nbformat\" in str(e):\n",
    "        print(\"Please install nbformat for plotly: run 'uv add nbformat' then restart kernel\")\n",
    "        # Fallback to matplotlib\n",
    "        pd.plotting.scatter_matrix(\n",
    "            df[feature_names[:4]], \n",
    "            c=df['target'], \n",
    "            figsize=(12, 8), \n",
    "            alpha=0.7\n",
    "        )\n",
    "        plt.suptitle('Feature Scatter Matrix (Matplotlib Fallback)')\n",
    "        plt.show()\n",
    "    else:\n",
    "        raise e"
   ]
  },
  {
   "cell_type": "markdown",
   "metadata": {},
   "source": [
    "# 2. Methodology\n",
    "\n",
    "## Data Splitting Strategy\n",
    "- **Training Set:** 60% for model training\n",
    "- **Validation Set:** 20% for hyperparameter tuning\n",
    "- **Test Set:** 20% for final evaluation\n",
    "\n",
    "## Models to Compare\n",
    "1. **Logistic Regression** (Baseline)\n",
    "2. **Random Forest** (Ensemble method)\n",
    "3. **Support Vector Machine** (Kernel-based)\n",
    "\n",
    "## Evaluation Metrics\n",
    "- Accuracy\n",
    "- Precision, Recall, F1-score\n",
    "- Confusion Matrix"
   ]
  },
  {
   "cell_type": "code",
   "execution_count": 7,
   "metadata": {},
   "outputs": [
    {
     "name": "stdout",
     "output_type": "stream",
     "text": [
      "Training set: (600, 10)\n",
      "Validation set: (200, 10)\n",
      "Test set: (200, 10)\n"
     ]
    }
   ],
   "source": [
    "# Prepare features and target\n",
    "X = df.drop('target', axis=1)\n",
    "y = df['target']\n",
    "\n",
    "# Split the data\n",
    "X_temp, X_test, y_temp, y_test = train_test_split(\n",
    "    X, y, test_size=0.2, random_state=42, stratify=y\n",
    ")\n",
    "\n",
    "X_train, X_val, y_train, y_val = train_test_split(\n",
    "    X_temp, y_temp, test_size=0.25, random_state=42, stratify=y_temp\n",
    ")\n",
    "\n",
    "# Scale features\n",
    "scaler = StandardScaler()\n",
    "X_train_scaled = scaler.fit_transform(X_train)\n",
    "X_val_scaled = scaler.transform(X_val)\n",
    "X_test_scaled = scaler.transform(X_test)\n",
    "\n",
    "print(f\"Training set: {X_train.shape}\")\n",
    "print(f\"Validation set: {X_val.shape}\")\n",
    "print(f\"Test set: {X_test.shape}\")"
   ]
  },
  {
   "cell_type": "markdown",
   "metadata": {},
   "source": [
    "# 3. Model Implementation\n",
    "\n",
    "Let's implement and train multiple models for comparison."
   ]
  },
  {
   "cell_type": "code",
   "execution_count": 8,
   "metadata": {},
   "outputs": [
    {
     "name": "stdout",
     "output_type": "stream",
     "text": [
      "\n",
      "Training Logistic Regression...\n",
      "Train Accuracy: 0.7233\n",
      "Validation Accuracy: 0.6800\n",
      "\n",
      "Training Random Forest...\n",
      "Train Accuracy: 1.0000\n",
      "Validation Accuracy: 0.8450\n",
      "\n",
      "Training SVM...\n",
      "Train Accuracy: 0.8883\n",
      "Validation Accuracy: 0.8500\n"
     ]
    }
   ],
   "source": [
    "# Initialize models\n",
    "models = {\n",
    "    'Logistic Regression': LogisticRegression(random_state=42),\n",
    "    'Random Forest': RandomForestClassifier(n_estimators=100, random_state=42),\n",
    "    'SVM': SVC(random_state=42)\n",
    "}\n",
    "\n",
    "# Train models and store results\n",
    "results = {}\n",
    "\n",
    "for name, model in models.items():\n",
    "    print(f\"\\nTraining {name}...\")\n",
    "    \n",
    "    # Train model\n",
    "    model.fit(X_train_scaled, y_train)\n",
    "    \n",
    "    # Predictions\n",
    "    train_pred = model.predict(X_train_scaled)\n",
    "    val_pred = model.predict(X_val_scaled)\n",
    "    \n",
    "    # Store results\n",
    "    results[name] = {\n",
    "        'model': model,\n",
    "        'train_accuracy': accuracy_score(y_train, train_pred),\n",
    "        'val_accuracy': accuracy_score(y_val, val_pred),\n",
    "        'val_predictions': val_pred\n",
    "    }\n",
    "    \n",
    "    print(f\"Train Accuracy: {results[name]['train_accuracy']:.4f}\")\n",
    "    print(f\"Validation Accuracy: {results[name]['val_accuracy']:.4f}\")"
   ]
  },
  {
   "cell_type": "markdown",
   "metadata": {},
   "source": [
    "# 4. Results and Analysis\n",
    "\n",
    "Let's analyze and compare the performance of our models."
   ]
  },
  {
   "cell_type": "code",
   "execution_count": 9,
   "metadata": {},
   "outputs": [
    {
     "name": "stdout",
     "output_type": "stream",
     "text": [
      "Model Comparison:\n",
      "                 Model  Train Accuracy  Validation Accuracy\n",
      "0  Logistic Regression        0.723333                0.680\n",
      "1        Random Forest        1.000000                0.845\n",
      "2                  SVM        0.888333                0.850\n"
     ]
    },
    {
     "data": {
      "image/png": "[encoded data removed]",
      "text/plain": [
       "<Figure size 1500x500 with 3 Axes>"
      ]
     },
     "metadata": {},
     "output_type": "display_data"
    },
    {
     "name": "stdout",
     "output_type": "stream",
     "text": [
      "\n",
      "Best Model: SVM\n",
      "Classification Report for SVM:\n",
      "              precision    recall  f1-score   support\n",
      "\n",
      "           0       0.87      0.90      0.88        67\n",
      "           1       0.86      0.84      0.85        67\n",
      "           2       0.82      0.82      0.82        66\n",
      "\n",
      "    accuracy                           0.85       200\n",
      "   macro avg       0.85      0.85      0.85       200\n",
      "weighted avg       0.85      0.85      0.85       200\n",
      "\n"
     ]
    }
   ],
   "source": [
    "# Create comparison DataFrame\n",
    "comparison_df = pd.DataFrame({\n",
    "    'Model': list(results.keys()),\n",
    "    'Train Accuracy': [results[model]['train_accuracy'] for model in results.keys()],\n",
    "    'Validation Accuracy': [results[model]['val_accuracy'] for model in results.keys()]\n",
    "})\n",
    "\n",
    "print(\"Model Comparison:\")\n",
    "print(comparison_df)\n",
    "\n",
    "# Visualize comparison\n",
    "fig, (ax1, ax2) = plt.subplots(1, 2, figsize=(15, 5))\n",
    "\n",
    "# Accuracy comparison\n",
    "comparison_df.set_index('Model')[['Train Accuracy', 'Validation Accuracy']].plot(\n",
    "    kind='bar', ax=ax1, title='Model Accuracy Comparison'\n",
    ")\n",
    "ax1.set_ylabel('Accuracy')\n",
    "ax1.legend()\n",
    "ax1.set_xticklabels(comparison_df['Model'], rotation=45)\n",
    "\n",
    "# Best model confusion matrix\n",
    "best_model_name = comparison_df.loc[comparison_df['Validation Accuracy'].idxmax(), 'Model']\n",
    "best_predictions = results[best_model_name]['val_predictions']\n",
    "\n",
    "cm = confusion_matrix(y_val, best_predictions)\n",
    "sns.heatmap(cm, annot=True, fmt='d', cmap='Blues', ax=ax2)\n",
    "ax2.set_title(f'Confusion Matrix - {best_model_name}')\n",
    "ax2.set_xlabel('Predicted')\n",
    "ax2.set_ylabel('Actual')\n",
    "\n",
    "plt.tight_layout()\n",
    "plt.show()\n",
    "\n",
    "print(f\"\\nBest Model: {best_model_name}\")\n",
    "print(f\"Classification Report for {best_model_name}:\")\n",
    "print(classification_report(y_val, best_predictions))"
   ]
  },
  {
   "cell_type": "code",
   "execution_count": 10,
   "metadata": {},
   "outputs": [
    {
     "name": "stdout",
     "output_type": "stream",
     "text": [
      "Final Test Accuracy (SVM): 0.8800\n",
      "\n",
      "Final Test Classification Report:\n",
      "              precision    recall  f1-score   support\n",
      "\n",
      "           0       0.88      0.85      0.86        67\n",
      "           1       0.84      0.93      0.88        67\n",
      "           2       0.93      0.86      0.90        66\n",
      "\n",
      "    accuracy                           0.88       200\n",
      "   macro avg       0.88      0.88      0.88       200\n",
      "weighted avg       0.88      0.88      0.88       200\n",
      "\n"
     ]
    }
   ],
   "source": [
    "# Test the best model on test set\n",
    "best_model = results[best_model_name]['model']\n",
    "test_predictions = best_model.predict(X_test_scaled)\n",
    "test_accuracy = accuracy_score(y_test, test_predictions)\n",
    "\n",
    "print(f\"Final Test Accuracy ({best_model_name}): {test_accuracy:.4f}\")\n",
    "print(\"\\nFinal Test Classification Report:\")\n",
    "print(classification_report(y_test, test_predictions))"
   ]
  },
  {
   "cell_type": "markdown",
   "metadata": {},
   "source": [
    "# 5. AI Tooling Reflection\n",
    "\n",
    "## AI Tools Used\n",
    "- **[Tool Name]:** [How you used it - code generation, debugging, etc.]\n",
    "- **[Tool Name]:** [Specific examples of assistance]\n",
    "\n",
    "## Impact on Development\n",
    "- **Speed:** [How AI tools affected your development speed]\n",
    "- **Learning:** [What you learned through AI assistance]\n",
    "- **Challenges:** [Any limitations or issues with AI tools]\n",
    "\n",
    "## Code Generated with AI\n",
    "[Mention specific sections where AI helped generate or improve code]"
   ]
  },
  {
   "cell_type": "markdown",
   "metadata": {},
   "source": [
    "# 6. Conclusions\n",
    "\n",
    "## Key Findings\n",
    "- [Finding 1 - which model performed best and why]\n",
    "- [Finding 2 - interesting patterns in the data]\n",
    "- [Finding 3 - unexpected results or insights]\n",
    "\n",
    "## Model Performance Summary\n",
    "- **Best Model:** [Model name] with [accuracy]% test accuracy\n",
    "- **Key Factors:** [What made this model successful]\n",
    "\n",
    "## Limitations\n",
    "- [Limitation 1 - dataset size, quality, etc.]\n",
    "- [Limitation 2 - model complexity, computational constraints]\n",
    "- [Limitation 3 - evaluation methodology]\n",
    "\n",
    "## Future Work\n",
    "- [Improvement 1 - more data, feature engineering]\n",
    "- [Improvement 2 - advanced models, hyperparameter tuning]\n",
    "- [Improvement 3 - deployment considerations]\n",
    "\n",
    "## Broader Implications\n",
    "[How this work could be applied in real-world scenarios]"
   ]
  },
  {
   "cell_type": "markdown",
   "metadata": {},
   "source": [
    "---\n",
    "---"
   ]
  }
 ],
 "metadata": {
  "kernelspec": {
   "display_name": ".venv",
   "language": "python",
   "name": "python3"
  },
  "language_info": {
   "codemirror_mode": {
    "name": "ipython",
    "version": 3
   },
   "file_extension": ".py",
   "mimetype": "text/x-python",
   "name": "python",
   "nbconvert_exporter": "python",
   "pygments_lexer": "ipython3",
   "version": "3.12.11"
  }
 },
 "nbformat": 4,
 "nbformat_minor": 2
}
